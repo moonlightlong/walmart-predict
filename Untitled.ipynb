{
 "cells": [
  {
   "cell_type": "code",
   "execution_count": 1,
   "metadata": {
    "collapsed": false
   },
   "outputs": [
    {
     "name": "stderr",
     "output_type": "stream",
     "text": [
      "/home/moonlight/anaconda3/lib/python3.5/site-packages/sklearn/cross_validation.py:41: DeprecationWarning: This module was deprecated in version 0.18 in favor of the model_selection module into which all the refactored classes and functions are moved. Also note that the interface of the new CV iterators are different from that of this module. This module will be removed in 0.20.\n",
      "  \"This module will be removed in 0.20.\", DeprecationWarning)\n"
     ]
    }
   ],
   "source": [
    "#!/usr/bin/python\n",
    "# -*- coding: UTF-8 -*-\n",
    "import numpy as np\n",
    "import pandas as pd\n",
    "import sklearn\n",
    "import xgboost as xgb\n",
    "from sklearn.model_selection import train_test_split\n",
    "from sklearn.model_selection import cross_val_score\n",
    "from sklearn.metrics import mean_absolute_error\n",
    "from sklearn.metrics import accuracy_score\n",
    "\n",
    "# model\n",
    "from sklearn import linear_model\n",
    "from sklearn import neighbors\n",
    "from sklearn import svm"
   ]
  },
  {
   "cell_type": "code",
   "execution_count": 2,
   "metadata": {
    "collapsed": true
   },
   "outputs": [],
   "source": [
    "# Feature Engineering\n",
    "stores = pd.read_csv('stores.csv')\n",
    "\n",
    "\n",
    "def v(x):\n",
    "    d = {'A': 1, 'B': 2, 'C': 3}\n",
    "    if x in d.keys():\n",
    "        return d[x]\n",
    "    else:\n",
    "        return x\n",
    "stores = stores.applymap(v)\n",
    "\n",
    "train = pd.read_csv('train.csv')\n",
    "# knn\n",
    "k = len(train.Store.unique())\n",
    "\n",
    "test = pd.read_csv('test.csv')\n",
    "\n",
    "features = pd.read_csv('features.csv')\n",
    "features.drop(['MarkDown1', 'MarkDown2', 'MarkDown3', 'MarkDown4', 'MarkDown5'], axis=1, inplace=True)\n",
    "features.fillna(method='ffill', inplace=True)\n",
    "\n",
    "train_s = pd.merge(train, stores, how='left', on='Store')\n",
    "\n",
    "train_s_f = pd.merge(train_s, features, how='left', on=['Store', 'Date', 'IsHoliday'])\n",
    "\n",
    "\n",
    "def b2i(x):\n",
    "    d = {False: 0, True: 1}\n",
    "    if x in d.keys():\n",
    "        return d[x]\n",
    "    else:\n",
    "        return x\n",
    "train_s_f.IsHoliday = train_s_f.IsHoliday.map(b2i)\n",
    "\n",
    "test = pd.read_csv('test.csv')\n",
    "test_s = pd.merge(test, stores, how='left', on='Store')\n",
    "test_s_f = pd.merge(test_s, features, how='left', on=['Store', 'Date', 'IsHoliday'])\n",
    "\n",
    "\n",
    "def b2i(x):\n",
    "    d = {False: 0, True: 1}\n",
    "    if x in d.keys():\n",
    "        return d[x]\n",
    "    else:\n",
    "        return x\n",
    "test_s_f.IsHoliday = test_s_f.IsHoliday.map(b2i)"
   ]
  },
  {
   "cell_type": "code",
   "execution_count": 3,
   "metadata": {
    "collapsed": false
   },
   "outputs": [
    {
     "data": {
      "text/html": [
       "<div>\n",
       "<style>\n",
       "    .dataframe thead tr:only-child th {\n",
       "        text-align: right;\n",
       "    }\n",
       "\n",
       "    .dataframe thead th {\n",
       "        text-align: left;\n",
       "    }\n",
       "\n",
       "    .dataframe tbody tr th {\n",
       "        vertical-align: top;\n",
       "    }\n",
       "</style>\n",
       "<table border=\"1\" class=\"dataframe\">\n",
       "  <thead>\n",
       "    <tr style=\"text-align: right;\">\n",
       "      <th></th>\n",
       "      <th>Store</th>\n",
       "      <th>Dept</th>\n",
       "      <th>Date</th>\n",
       "      <th>IsHoliday</th>\n",
       "      <th>Type</th>\n",
       "      <th>Size</th>\n",
       "      <th>Temperature</th>\n",
       "      <th>Fuel_Price</th>\n",
       "      <th>CPI</th>\n",
       "      <th>Unemployment</th>\n",
       "    </tr>\n",
       "  </thead>\n",
       "  <tbody>\n",
       "    <tr>\n",
       "      <th>32055</th>\n",
       "      <td>13</td>\n",
       "      <td>1</td>\n",
       "      <td>2012-11-02</td>\n",
       "      <td>0</td>\n",
       "      <td>1</td>\n",
       "      <td>219622</td>\n",
       "      <td>52.55</td>\n",
       "      <td>3.702</td>\n",
       "      <td>131.236226</td>\n",
       "      <td>5.621</td>\n",
       "    </tr>\n",
       "    <tr>\n",
       "      <th>32056</th>\n",
       "      <td>13</td>\n",
       "      <td>1</td>\n",
       "      <td>2012-11-09</td>\n",
       "      <td>0</td>\n",
       "      <td>1</td>\n",
       "      <td>219622</td>\n",
       "      <td>50.48</td>\n",
       "      <td>3.663</td>\n",
       "      <td>131.279355</td>\n",
       "      <td>5.621</td>\n",
       "    </tr>\n",
       "    <tr>\n",
       "      <th>32057</th>\n",
       "      <td>13</td>\n",
       "      <td>1</td>\n",
       "      <td>2012-11-16</td>\n",
       "      <td>0</td>\n",
       "      <td>1</td>\n",
       "      <td>219622</td>\n",
       "      <td>33.30</td>\n",
       "      <td>3.612</td>\n",
       "      <td>131.325800</td>\n",
       "      <td>5.621</td>\n",
       "    </tr>\n",
       "    <tr>\n",
       "      <th>32058</th>\n",
       "      <td>13</td>\n",
       "      <td>1</td>\n",
       "      <td>2012-11-23</td>\n",
       "      <td>1</td>\n",
       "      <td>1</td>\n",
       "      <td>219622</td>\n",
       "      <td>46.21</td>\n",
       "      <td>3.562</td>\n",
       "      <td>131.376667</td>\n",
       "      <td>5.621</td>\n",
       "    </tr>\n",
       "    <tr>\n",
       "      <th>32059</th>\n",
       "      <td>13</td>\n",
       "      <td>1</td>\n",
       "      <td>2012-11-30</td>\n",
       "      <td>0</td>\n",
       "      <td>1</td>\n",
       "      <td>219622</td>\n",
       "      <td>41.64</td>\n",
       "      <td>3.524</td>\n",
       "      <td>131.427533</td>\n",
       "      <td>5.621</td>\n",
       "    </tr>\n",
       "  </tbody>\n",
       "</table>\n",
       "</div>"
      ],
      "text/plain": [
       "       Store  Dept        Date  IsHoliday  Type    Size  Temperature  \\\n",
       "32055     13     1  2012-11-02          0     1  219622        52.55   \n",
       "32056     13     1  2012-11-09          0     1  219622        50.48   \n",
       "32057     13     1  2012-11-16          0     1  219622        33.30   \n",
       "32058     13     1  2012-11-23          1     1  219622        46.21   \n",
       "32059     13     1  2012-11-30          0     1  219622        41.64   \n",
       "\n",
       "       Fuel_Price         CPI  Unemployment  \n",
       "32055       3.702  131.236226         5.621  \n",
       "32056       3.663  131.279355         5.621  \n",
       "32057       3.612  131.325800         5.621  \n",
       "32058       3.562  131.376667         5.621  \n",
       "32059       3.524  131.427533         5.621  "
      ]
     },
     "execution_count": 3,
     "metadata": {},
     "output_type": "execute_result"
    }
   ],
   "source": [
    "test_s_f[test_s_f.Store == 13].head()"
   ]
  },
  {
   "cell_type": "code",
   "execution_count": 4,
   "metadata": {
    "collapsed": true
   },
   "outputs": [],
   "source": [
    "feature = ['IsHoliday', 'Type', 'Size', 'Temperature', 'Fuel_Price', 'CPI', 'Unemployment']\n",
    "\n",
    "with open('Submission.csv', 'w') as f:\n",
    "    f.write('Id,Weekly_Sales\\n')\n",
    "\n",
    "\n",
    "def write(storeid, deptid, date, y):\n",
    "    with open('Submission.csv', 'a') as f:\n",
    "        for dateid, y_ in zip(list(date), y):\n",
    "            line = str(storeid)+'_'+str(deptid)+'_'+str(dateid)+','+str(y_)+'\\n'\n",
    "            f.write(line)\n",
    "            # print(line)\n",
    "\n",
    "mission = pd.DataFrame(columns=['Id', 'Weekly_Sales'])\n",
    "error = list()\n",
    "wmse = list()\n",
    "ids = set()\n"
   ]
  },
  {
   "cell_type": "code",
   "execution_count": 5,
   "metadata": {
    "collapsed": true
   },
   "outputs": [],
   "source": [
    "# model\n",
    "def model(train_x, train_y, test_X, flags='linear'):\n",
    "    if flags == 'linear':\n",
    "        clf = linear_model.LinearRegression()\n",
    "\n",
    "    elif flags == 'SVR':\n",
    "        clf = svm.LinearSVR()\n",
    "\n",
    "    clf.fit(train_x, train_y)\n",
    "    return clf.predict(test_X)"
   ]
  },
  {
   "cell_type": "code",
   "execution_count": 7,
   "metadata": {
    "collapsed": false
   },
   "outputs": [
    {
     "name": "stdout",
     "output_type": "stream",
     "text": [
      "## sotre-1: dept_num-77\n",
      "   sotre-1: dept_num-74\n",
      "## sotre-2: dept_num-78\n",
      "   sotre-2: dept_num-75\n",
      "## sotre-3: dept_num-72\n",
      "   sotre-3: dept_num-67\n",
      "## sotre-4: dept_num-78\n",
      "   sotre-4: dept_num-75\n",
      "## sotre-5: dept_num-72\n",
      "   sotre-5: dept_num-69\n",
      "## sotre-6: dept_num-77\n",
      "   sotre-6: dept_num-74\n",
      "## sotre-7: dept_num-76\n",
      "   sotre-7: dept_num-72\n",
      "## sotre-8: dept_num-76\n",
      "   sotre-8: dept_num-73\n",
      "## sotre-9: dept_num-73\n",
      "   sotre-9: dept_num-68\n",
      "## sotre-10: dept_num-77\n",
      "   sotre-10: dept_num-74\n",
      "## sotre-11: dept_num-78\n",
      "   sotre-11: dept_num-73\n",
      "## sotre-12: dept_num-75\n",
      "   sotre-12: dept_num-71\n",
      "## sotre-13: dept_num-79\n",
      "   sotre-13: dept_num-75\n",
      "## sotre-14: dept_num-77\n",
      "   sotre-14: dept_num-74\n",
      "## sotre-15: dept_num-79\n",
      "   sotre-15: dept_num-73\n",
      "## sotre-16: dept_num-76\n",
      "   sotre-16: dept_num-73\n",
      "## sotre-17: dept_num-76\n",
      "   sotre-17: dept_num-73\n",
      "## sotre-18: dept_num-78\n",
      "   sotre-18: dept_num-74\n",
      "## sotre-19: dept_num-79\n",
      "   sotre-19: dept_num-74\n",
      "## sotre-20: dept_num-78\n",
      "   sotre-20: dept_num-76\n",
      "## sotre-21: dept_num-77\n",
      "   sotre-21: dept_num-70\n",
      "## sotre-22: dept_num-76\n",
      "   sotre-22: dept_num-70\n",
      "## sotre-23: dept_num-77\n",
      "   sotre-23: dept_num-73\n",
      "## sotre-24: dept_num-77\n",
      "   sotre-24: dept_num-74\n",
      "## sotre-25: dept_num-77\n",
      "   sotre-25: dept_num-72\n",
      "## sotre-26: dept_num-76\n",
      "   sotre-26: dept_num-72\n",
      "## sotre-27: dept_num-78\n",
      "   sotre-27: dept_num-74\n",
      "## sotre-28: dept_num-77\n",
      "   sotre-28: dept_num-73\n",
      "## sotre-29: dept_num-77\n",
      "   sotre-29: dept_num-71\n",
      "## sotre-30: dept_num-64\n",
      "   sotre-30: dept_num-60\n",
      "## sotre-31: dept_num-76\n",
      "   sotre-31: dept_num-75\n",
      "## sotre-32: dept_num-77\n",
      "   sotre-32: dept_num-73\n",
      "## sotre-33: dept_num-63\n",
      "   sotre-33: dept_num-56\n",
      "## sotre-34: dept_num-78\n",
      "   sotre-34: dept_num-74\n",
      "## sotre-35: dept_num-74\n",
      "   sotre-35: dept_num-70\n",
      "## sotre-36: dept_num-63\n",
      "   sotre-36: dept_num-57\n",
      "## sotre-37: dept_num-62\n",
      "   sotre-37: dept_num-61\n",
      "## sotre-38: dept_num-63\n",
      "   sotre-38: dept_num-62\n",
      "## sotre-39: dept_num-75\n",
      "   sotre-39: dept_num-72\n",
      "## sotre-40: dept_num-77\n",
      "   sotre-40: dept_num-74\n",
      "## sotre-41: dept_num-77\n",
      "   sotre-41: dept_num-73\n",
      "## sotre-42: dept_num-62\n",
      "   sotre-42: dept_num-59\n",
      "## sotre-43: dept_num-61\n",
      "   sotre-43: dept_num-57\n",
      "## sotre-44: dept_num-62\n",
      "   sotre-44: dept_num-59\n",
      "## sotre-45: dept_num-74\n",
      "   sotre-45: dept_num-70\n"
     ]
    }
   ],
   "source": [
    "for i in range(1, 46):\n",
    "    dept_list = list(set(train_s_f[train_s_f.Store == i].Dept.values))\n",
    "    test_dept_list = list(set(test_s_f[test_s_f.Store == i].Dept.values))\n",
    "    l = test_dept_list.copy()\n",
    "    print('## sotre-{}: dept_num-{}'.format(i, len(dept_list)))\n",
    "    for v in test_dept_list:\n",
    "        if v not in dept_list:\n",
    "            test_data = test_s_f[(test_s_f.Store == i) & (test_s_f.Dept == v)]\n",
    "            date = test_data.Date\n",
    "            y_predict = [0 for x in range(len(test_data))]\n",
    "            write(i, v, date, y_predict)\n",
    "            test_dept_list.remove(v)\n",
    "    dept_num = len(test_dept_list)\n",
    "    print('   sotre-{}: dept_num-{}'.format(i, dept_num))\n",
    "    if dept_num == 0:\n",
    "        print(dept_list)\n",
    "        print(l)\n",
    "    for j in test_dept_list:\n",
    "        train_data = train_s_f[(train_s_f.Store == i) & (train_s_f.Dept == j)]\n",
    "        test_data = test_s_f[(test_s_f.Store == i) & (test_s_f.Dept == j)]"
   ]
  },
  {
   "cell_type": "code",
   "execution_count": 11,
   "metadata": {
    "collapsed": false
   },
   "outputs": [
    {
     "name": "stdout",
     "output_type": "stream",
     "text": [
      "<class 'pandas.core.frame.DataFrame'>\n",
      "RangeIndex: 115064 entries, 0 to 115063\n",
      "Data columns (total 2 columns):\n",
      "Id              115064 non-null object\n",
      "Weekly_Sales    115064 non-null float64\n",
      "dtypes: float64(1), object(1)\n",
      "memory usage: 1.8+ MB\n"
     ]
    }
   ],
   "source": [
    "sub = pd.read_csv('Submission.csv')\n",
    "sub.info()"
   ]
  },
  {
   "cell_type": "code",
   "execution_count": 16,
   "metadata": {
    "collapsed": false
   },
   "outputs": [
    {
     "data": {
      "text/html": [
       "<div>\n",
       "<style>\n",
       "    .dataframe thead tr:only-child th {\n",
       "        text-align: right;\n",
       "    }\n",
       "\n",
       "    .dataframe thead th {\n",
       "        text-align: left;\n",
       "    }\n",
       "\n",
       "    .dataframe tbody tr th {\n",
       "        vertical-align: top;\n",
       "    }\n",
       "</style>\n",
       "<table border=\"1\" class=\"dataframe\">\n",
       "  <thead>\n",
       "    <tr style=\"text-align: right;\">\n",
       "      <th></th>\n",
       "      <th>Id</th>\n",
       "      <th>Weekly_Sales</th>\n",
       "    </tr>\n",
       "  </thead>\n",
       "  <tbody>\n",
       "    <tr>\n",
       "      <th>0</th>\n",
       "      <td>1_1_2012-11-02</td>\n",
       "      <td>25682.713418</td>\n",
       "    </tr>\n",
       "    <tr>\n",
       "      <th>1</th>\n",
       "      <td>1_1_2012-11-09</td>\n",
       "      <td>23618.138098</td>\n",
       "    </tr>\n",
       "    <tr>\n",
       "      <th>2</th>\n",
       "      <td>1_1_2012-11-16</td>\n",
       "      <td>26291.473042</td>\n",
       "    </tr>\n",
       "    <tr>\n",
       "      <th>3</th>\n",
       "      <td>1_1_2012-11-23</td>\n",
       "      <td>24920.561588</td>\n",
       "    </tr>\n",
       "    <tr>\n",
       "      <th>4</th>\n",
       "      <td>1_1_2012-11-30</td>\n",
       "      <td>26424.470737</td>\n",
       "    </tr>\n",
       "  </tbody>\n",
       "</table>\n",
       "</div>"
      ],
      "text/plain": [
       "               Id  Weekly_Sales\n",
       "0  1_1_2012-11-02  25682.713418\n",
       "1  1_1_2012-11-09  23618.138098\n",
       "2  1_1_2012-11-16  26291.473042\n",
       "3  1_1_2012-11-23  24920.561588\n",
       "4  1_1_2012-11-30  26424.470737"
      ]
     },
     "execution_count": 16,
     "metadata": {},
     "output_type": "execute_result"
    }
   ],
   "source": [
    "sub.head()"
   ]
  },
  {
   "cell_type": "code",
   "execution_count": 13,
   "metadata": {
    "collapsed": false
   },
   "outputs": [
    {
     "data": {
      "text/plain": [
       "array(['1_1_2012-11-02', '1_1_2012-11-09', '1_1_2012-11-16', ...,\n",
       "       '45_98_2013-07-12', '45_98_2013-07-19', '45_98_2013-07-26'], dtype=object)"
      ]
     },
     "execution_count": 13,
     "metadata": {},
     "output_type": "execute_result"
    }
   ],
   "source": [
    "sub.Id.unique()"
   ]
  },
  {
   "cell_type": "code",
   "execution_count": 14,
   "metadata": {
    "collapsed": false
   },
   "outputs": [
    {
     "data": {
      "text/plain": [
       "115064"
      ]
     },
     "execution_count": 14,
     "metadata": {},
     "output_type": "execute_result"
    }
   ],
   "source": [
    "len(sub.Id.unique())"
   ]
  },
  {
   "cell_type": "code",
   "execution_count": null,
   "metadata": {
    "collapsed": true
   },
   "outputs": [],
   "source": []
  }
 ],
 "metadata": {
  "anaconda-cloud": {},
  "kernelspec": {
   "display_name": "Python [Root]",
   "language": "python",
   "name": "Python [Root]"
  },
  "language_info": {
   "codemirror_mode": {
    "name": "ipython",
    "version": 3
   },
   "file_extension": ".py",
   "mimetype": "text/x-python",
   "name": "python",
   "nbconvert_exporter": "python",
   "pygments_lexer": "ipython3",
   "version": "3.5.2"
  }
 },
 "nbformat": 4,
 "nbformat_minor": 0
}
