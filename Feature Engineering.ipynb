{
 "cells": [
  {
   "cell_type": "code",
   "execution_count": 1,
   "metadata": {
    "collapsed": true
   },
   "outputs": [],
   "source": [
    "import numpy as np\n",
    "import pandas as pd"
   ]
  },
  {
   "cell_type": "code",
   "execution_count": 2,
   "metadata": {
    "collapsed": false
   },
   "outputs": [
    {
     "data": {
      "text/html": [
       "<div>\n",
       "<style>\n",
       "    .dataframe thead tr:only-child th {\n",
       "        text-align: right;\n",
       "    }\n",
       "\n",
       "    .dataframe thead th {\n",
       "        text-align: left;\n",
       "    }\n",
       "\n",
       "    .dataframe tbody tr th {\n",
       "        vertical-align: top;\n",
       "    }\n",
       "</style>\n",
       "<table border=\"1\" class=\"dataframe\">\n",
       "  <thead>\n",
       "    <tr style=\"text-align: right;\">\n",
       "      <th></th>\n",
       "      <th>Store</th>\n",
       "      <th>Type</th>\n",
       "      <th>Size</th>\n",
       "    </tr>\n",
       "  </thead>\n",
       "  <tbody>\n",
       "    <tr>\n",
       "      <th>0</th>\n",
       "      <td>1</td>\n",
       "      <td>1</td>\n",
       "      <td>151315</td>\n",
       "    </tr>\n",
       "    <tr>\n",
       "      <th>1</th>\n",
       "      <td>2</td>\n",
       "      <td>1</td>\n",
       "      <td>202307</td>\n",
       "    </tr>\n",
       "    <tr>\n",
       "      <th>2</th>\n",
       "      <td>3</td>\n",
       "      <td>2</td>\n",
       "      <td>37392</td>\n",
       "    </tr>\n",
       "    <tr>\n",
       "      <th>3</th>\n",
       "      <td>4</td>\n",
       "      <td>1</td>\n",
       "      <td>205863</td>\n",
       "    </tr>\n",
       "    <tr>\n",
       "      <th>4</th>\n",
       "      <td>5</td>\n",
       "      <td>2</td>\n",
       "      <td>34875</td>\n",
       "    </tr>\n",
       "  </tbody>\n",
       "</table>\n",
       "</div>"
      ],
      "text/plain": [
       "   Store  Type    Size\n",
       "0      1     1  151315\n",
       "1      2     1  202307\n",
       "2      3     2   37392\n",
       "3      4     1  205863\n",
       "4      5     2   34875"
      ]
     },
     "execution_count": 2,
     "metadata": {},
     "output_type": "execute_result"
    }
   ],
   "source": [
    "stores = pd.read_csv('stores.csv')\n",
    "def v(x):\n",
    "    d = {'A': 1, 'B': 2, 'C': 3}\n",
    "    if x in d.keys():\n",
    "        return d[x]\n",
    "    else:\n",
    "        return x\n",
    "stores = stores.applymap(v)\n",
    "stores.head()"
   ]
  },
  {
   "cell_type": "code",
   "execution_count": 3,
   "metadata": {
    "collapsed": false
   },
   "outputs": [
    {
     "data": {
      "text/html": [
       "<div>\n",
       "<style>\n",
       "    .dataframe thead tr:only-child th {\n",
       "        text-align: right;\n",
       "    }\n",
       "\n",
       "    .dataframe thead th {\n",
       "        text-align: left;\n",
       "    }\n",
       "\n",
       "    .dataframe tbody tr th {\n",
       "        vertical-align: top;\n",
       "    }\n",
       "</style>\n",
       "<table border=\"1\" class=\"dataframe\">\n",
       "  <thead>\n",
       "    <tr style=\"text-align: right;\">\n",
       "      <th></th>\n",
       "      <th>Store</th>\n",
       "      <th>Dept</th>\n",
       "      <th>Date</th>\n",
       "      <th>Weekly_Sales</th>\n",
       "      <th>IsHoliday</th>\n",
       "    </tr>\n",
       "  </thead>\n",
       "  <tbody>\n",
       "    <tr>\n",
       "      <th>0</th>\n",
       "      <td>1</td>\n",
       "      <td>1</td>\n",
       "      <td>2010-02-05</td>\n",
       "      <td>24924.50</td>\n",
       "      <td>False</td>\n",
       "    </tr>\n",
       "    <tr>\n",
       "      <th>1</th>\n",
       "      <td>1</td>\n",
       "      <td>1</td>\n",
       "      <td>2010-02-12</td>\n",
       "      <td>46039.49</td>\n",
       "      <td>True</td>\n",
       "    </tr>\n",
       "    <tr>\n",
       "      <th>2</th>\n",
       "      <td>1</td>\n",
       "      <td>1</td>\n",
       "      <td>2010-02-19</td>\n",
       "      <td>41595.55</td>\n",
       "      <td>False</td>\n",
       "    </tr>\n",
       "    <tr>\n",
       "      <th>3</th>\n",
       "      <td>1</td>\n",
       "      <td>1</td>\n",
       "      <td>2010-02-26</td>\n",
       "      <td>19403.54</td>\n",
       "      <td>False</td>\n",
       "    </tr>\n",
       "    <tr>\n",
       "      <th>4</th>\n",
       "      <td>1</td>\n",
       "      <td>1</td>\n",
       "      <td>2010-03-05</td>\n",
       "      <td>21827.90</td>\n",
       "      <td>False</td>\n",
       "    </tr>\n",
       "  </tbody>\n",
       "</table>\n",
       "</div>"
      ],
      "text/plain": [
       "   Store  Dept        Date  Weekly_Sales  IsHoliday\n",
       "0      1     1  2010-02-05      24924.50      False\n",
       "1      1     1  2010-02-12      46039.49       True\n",
       "2      1     1  2010-02-19      41595.55      False\n",
       "3      1     1  2010-02-26      19403.54      False\n",
       "4      1     1  2010-03-05      21827.90      False"
      ]
     },
     "execution_count": 3,
     "metadata": {},
     "output_type": "execute_result"
    }
   ],
   "source": [
    "train = pd.read_csv('train.csv')\n",
    "train.head()"
   ]
  },
  {
   "cell_type": "code",
   "execution_count": 4,
   "metadata": {
    "collapsed": false
   },
   "outputs": [
    {
     "data": {
      "text/html": [
       "<div>\n",
       "<style>\n",
       "    .dataframe thead tr:only-child th {\n",
       "        text-align: right;\n",
       "    }\n",
       "\n",
       "    .dataframe thead th {\n",
       "        text-align: left;\n",
       "    }\n",
       "\n",
       "    .dataframe tbody tr th {\n",
       "        vertical-align: top;\n",
       "    }\n",
       "</style>\n",
       "<table border=\"1\" class=\"dataframe\">\n",
       "  <thead>\n",
       "    <tr style=\"text-align: right;\">\n",
       "      <th></th>\n",
       "      <th>Store</th>\n",
       "      <th>Dept</th>\n",
       "      <th>Date</th>\n",
       "      <th>IsHoliday</th>\n",
       "    </tr>\n",
       "  </thead>\n",
       "  <tbody>\n",
       "    <tr>\n",
       "      <th>0</th>\n",
       "      <td>1</td>\n",
       "      <td>1</td>\n",
       "      <td>2012-11-02</td>\n",
       "      <td>False</td>\n",
       "    </tr>\n",
       "    <tr>\n",
       "      <th>1</th>\n",
       "      <td>1</td>\n",
       "      <td>1</td>\n",
       "      <td>2012-11-09</td>\n",
       "      <td>False</td>\n",
       "    </tr>\n",
       "    <tr>\n",
       "      <th>2</th>\n",
       "      <td>1</td>\n",
       "      <td>1</td>\n",
       "      <td>2012-11-16</td>\n",
       "      <td>False</td>\n",
       "    </tr>\n",
       "    <tr>\n",
       "      <th>3</th>\n",
       "      <td>1</td>\n",
       "      <td>1</td>\n",
       "      <td>2012-11-23</td>\n",
       "      <td>True</td>\n",
       "    </tr>\n",
       "    <tr>\n",
       "      <th>4</th>\n",
       "      <td>1</td>\n",
       "      <td>1</td>\n",
       "      <td>2012-11-30</td>\n",
       "      <td>False</td>\n",
       "    </tr>\n",
       "  </tbody>\n",
       "</table>\n",
       "</div>"
      ],
      "text/plain": [
       "   Store  Dept        Date  IsHoliday\n",
       "0      1     1  2012-11-02      False\n",
       "1      1     1  2012-11-09      False\n",
       "2      1     1  2012-11-16      False\n",
       "3      1     1  2012-11-23       True\n",
       "4      1     1  2012-11-30      False"
      ]
     },
     "execution_count": 4,
     "metadata": {},
     "output_type": "execute_result"
    }
   ],
   "source": [
    "test = pd.read_csv('test.csv')\n",
    "test.head()"
   ]
  },
  {
   "cell_type": "code",
   "execution_count": 5,
   "metadata": {
    "collapsed": false
   },
   "outputs": [
    {
     "data": {
      "text/html": [
       "<div>\n",
       "<style>\n",
       "    .dataframe thead tr:only-child th {\n",
       "        text-align: right;\n",
       "    }\n",
       "\n",
       "    .dataframe thead th {\n",
       "        text-align: left;\n",
       "    }\n",
       "\n",
       "    .dataframe tbody tr th {\n",
       "        vertical-align: top;\n",
       "    }\n",
       "</style>\n",
       "<table border=\"1\" class=\"dataframe\">\n",
       "  <thead>\n",
       "    <tr style=\"text-align: right;\">\n",
       "      <th></th>\n",
       "      <th>Store</th>\n",
       "      <th>Date</th>\n",
       "      <th>Temperature</th>\n",
       "      <th>Fuel_Price</th>\n",
       "      <th>CPI</th>\n",
       "      <th>Unemployment</th>\n",
       "      <th>IsHoliday</th>\n",
       "    </tr>\n",
       "  </thead>\n",
       "  <tbody>\n",
       "    <tr>\n",
       "      <th>0</th>\n",
       "      <td>1</td>\n",
       "      <td>2010-02-05</td>\n",
       "      <td>42.31</td>\n",
       "      <td>2.572</td>\n",
       "      <td>211.096358</td>\n",
       "      <td>8.106</td>\n",
       "      <td>False</td>\n",
       "    </tr>\n",
       "    <tr>\n",
       "      <th>1</th>\n",
       "      <td>1</td>\n",
       "      <td>2010-02-12</td>\n",
       "      <td>38.51</td>\n",
       "      <td>2.548</td>\n",
       "      <td>211.242170</td>\n",
       "      <td>8.106</td>\n",
       "      <td>True</td>\n",
       "    </tr>\n",
       "    <tr>\n",
       "      <th>2</th>\n",
       "      <td>1</td>\n",
       "      <td>2010-02-19</td>\n",
       "      <td>39.93</td>\n",
       "      <td>2.514</td>\n",
       "      <td>211.289143</td>\n",
       "      <td>8.106</td>\n",
       "      <td>False</td>\n",
       "    </tr>\n",
       "    <tr>\n",
       "      <th>3</th>\n",
       "      <td>1</td>\n",
       "      <td>2010-02-26</td>\n",
       "      <td>46.63</td>\n",
       "      <td>2.561</td>\n",
       "      <td>211.319643</td>\n",
       "      <td>8.106</td>\n",
       "      <td>False</td>\n",
       "    </tr>\n",
       "    <tr>\n",
       "      <th>4</th>\n",
       "      <td>1</td>\n",
       "      <td>2010-03-05</td>\n",
       "      <td>46.50</td>\n",
       "      <td>2.625</td>\n",
       "      <td>211.350143</td>\n",
       "      <td>8.106</td>\n",
       "      <td>False</td>\n",
       "    </tr>\n",
       "  </tbody>\n",
       "</table>\n",
       "</div>"
      ],
      "text/plain": [
       "   Store        Date  Temperature  Fuel_Price         CPI  Unemployment  \\\n",
       "0      1  2010-02-05        42.31       2.572  211.096358         8.106   \n",
       "1      1  2010-02-12        38.51       2.548  211.242170         8.106   \n",
       "2      1  2010-02-19        39.93       2.514  211.289143         8.106   \n",
       "3      1  2010-02-26        46.63       2.561  211.319643         8.106   \n",
       "4      1  2010-03-05        46.50       2.625  211.350143         8.106   \n",
       "\n",
       "   IsHoliday  \n",
       "0      False  \n",
       "1       True  \n",
       "2      False  \n",
       "3      False  \n",
       "4      False  "
      ]
     },
     "execution_count": 5,
     "metadata": {},
     "output_type": "execute_result"
    }
   ],
   "source": [
    "features = pd.read_csv('features.csv')\n",
    "features.drop(['MarkDown1', 'MarkDown2', 'MarkDown3', 'MarkDown4', 'MarkDown5'], axis=1, inplace=True)\n",
    "features.fillna(method='ffill', inplace=True)\n",
    "features.head()"
   ]
  },
  {
   "cell_type": "code",
   "execution_count": 6,
   "metadata": {
    "collapsed": false
   },
   "outputs": [
    {
     "data": {
      "text/plain": [
       "359464"
      ]
     },
     "execution_count": 6,
     "metadata": {},
     "output_type": "execute_result"
    }
   ],
   "source": [
    "# 训练集\n",
    "train_s = pd.merge(train, stores, how='left', on='Store')\n",
    "len(train_s.Weekly_Sales.unique())"
   ]
  },
  {
   "cell_type": "code",
   "execution_count": 7,
   "metadata": {
    "collapsed": false
   },
   "outputs": [
    {
     "data": {
      "text/html": [
       "<div>\n",
       "<style>\n",
       "    .dataframe thead tr:only-child th {\n",
       "        text-align: right;\n",
       "    }\n",
       "\n",
       "    .dataframe thead th {\n",
       "        text-align: left;\n",
       "    }\n",
       "\n",
       "    .dataframe tbody tr th {\n",
       "        vertical-align: top;\n",
       "    }\n",
       "</style>\n",
       "<table border=\"1\" class=\"dataframe\">\n",
       "  <thead>\n",
       "    <tr style=\"text-align: right;\">\n",
       "      <th></th>\n",
       "      <th>Store</th>\n",
       "      <th>Dept</th>\n",
       "      <th>Date</th>\n",
       "      <th>Weekly_Sales</th>\n",
       "      <th>IsHoliday</th>\n",
       "      <th>Type</th>\n",
       "      <th>Size</th>\n",
       "      <th>Temperature</th>\n",
       "      <th>Fuel_Price</th>\n",
       "      <th>CPI</th>\n",
       "      <th>Unemployment</th>\n",
       "    </tr>\n",
       "  </thead>\n",
       "  <tbody>\n",
       "    <tr>\n",
       "      <th>0</th>\n",
       "      <td>1</td>\n",
       "      <td>1</td>\n",
       "      <td>2010-02-05</td>\n",
       "      <td>24924.50</td>\n",
       "      <td>0</td>\n",
       "      <td>1</td>\n",
       "      <td>151315</td>\n",
       "      <td>42.31</td>\n",
       "      <td>2.572</td>\n",
       "      <td>211.096358</td>\n",
       "      <td>8.106</td>\n",
       "    </tr>\n",
       "    <tr>\n",
       "      <th>1</th>\n",
       "      <td>1</td>\n",
       "      <td>1</td>\n",
       "      <td>2010-02-12</td>\n",
       "      <td>46039.49</td>\n",
       "      <td>1</td>\n",
       "      <td>1</td>\n",
       "      <td>151315</td>\n",
       "      <td>38.51</td>\n",
       "      <td>2.548</td>\n",
       "      <td>211.242170</td>\n",
       "      <td>8.106</td>\n",
       "    </tr>\n",
       "    <tr>\n",
       "      <th>2</th>\n",
       "      <td>1</td>\n",
       "      <td>1</td>\n",
       "      <td>2010-02-19</td>\n",
       "      <td>41595.55</td>\n",
       "      <td>0</td>\n",
       "      <td>1</td>\n",
       "      <td>151315</td>\n",
       "      <td>39.93</td>\n",
       "      <td>2.514</td>\n",
       "      <td>211.289143</td>\n",
       "      <td>8.106</td>\n",
       "    </tr>\n",
       "    <tr>\n",
       "      <th>3</th>\n",
       "      <td>1</td>\n",
       "      <td>1</td>\n",
       "      <td>2010-02-26</td>\n",
       "      <td>19403.54</td>\n",
       "      <td>0</td>\n",
       "      <td>1</td>\n",
       "      <td>151315</td>\n",
       "      <td>46.63</td>\n",
       "      <td>2.561</td>\n",
       "      <td>211.319643</td>\n",
       "      <td>8.106</td>\n",
       "    </tr>\n",
       "    <tr>\n",
       "      <th>4</th>\n",
       "      <td>1</td>\n",
       "      <td>1</td>\n",
       "      <td>2010-03-05</td>\n",
       "      <td>21827.90</td>\n",
       "      <td>0</td>\n",
       "      <td>1</td>\n",
       "      <td>151315</td>\n",
       "      <td>46.50</td>\n",
       "      <td>2.625</td>\n",
       "      <td>211.350143</td>\n",
       "      <td>8.106</td>\n",
       "    </tr>\n",
       "  </tbody>\n",
       "</table>\n",
       "</div>"
      ],
      "text/plain": [
       "   Store  Dept        Date  Weekly_Sales  IsHoliday  Type    Size  \\\n",
       "0      1     1  2010-02-05      24924.50          0     1  151315   \n",
       "1      1     1  2010-02-12      46039.49          1     1  151315   \n",
       "2      1     1  2010-02-19      41595.55          0     1  151315   \n",
       "3      1     1  2010-02-26      19403.54          0     1  151315   \n",
       "4      1     1  2010-03-05      21827.90          0     1  151315   \n",
       "\n",
       "   Temperature  Fuel_Price         CPI  Unemployment  \n",
       "0        42.31       2.572  211.096358         8.106  \n",
       "1        38.51       2.548  211.242170         8.106  \n",
       "2        39.93       2.514  211.289143         8.106  \n",
       "3        46.63       2.561  211.319643         8.106  \n",
       "4        46.50       2.625  211.350143         8.106  "
      ]
     },
     "execution_count": 7,
     "metadata": {},
     "output_type": "execute_result"
    }
   ],
   "source": [
    "train_s_f = pd.merge(train_s, features, how='left', on=['Store', 'Date', 'IsHoliday'])\n",
    "def b2i(x):\n",
    "    d = {False: 0, True: 1}\n",
    "    if x in d.keys():\n",
    "        return d[x]\n",
    "    else:\n",
    "        return x\n",
    "train_s_f.IsHoliday = train_s_f.IsHoliday.map(b2i)\n",
    "train_s_f.head()"
   ]
  },
  {
   "cell_type": "code",
   "execution_count": 8,
   "metadata": {
    "collapsed": false
   },
   "outputs": [
    {
     "name": "stdout",
     "output_type": "stream",
     "text": [
      "<class 'pandas.core.frame.DataFrame'>\n",
      "Int64Index: 421570 entries, 0 to 421569\n",
      "Data columns (total 11 columns):\n",
      "Store           421570 non-null int64\n",
      "Dept            421570 non-null int64\n",
      "Date            421570 non-null object\n",
      "Weekly_Sales    421570 non-null float64\n",
      "IsHoliday       421570 non-null int64\n",
      "Type            421570 non-null int64\n",
      "Size            421570 non-null int64\n",
      "Temperature     421570 non-null float64\n",
      "Fuel_Price      421570 non-null float64\n",
      "CPI             421570 non-null float64\n",
      "Unemployment    421570 non-null float64\n",
      "dtypes: float64(5), int64(5), object(1)\n",
      "memory usage: 38.6+ MB\n"
     ]
    }
   ],
   "source": [
    "train_s_f.info()"
   ]
  },
  {
   "cell_type": "code",
   "execution_count": 9,
   "metadata": {
    "collapsed": false
   },
   "outputs": [
    {
     "name": "stdout",
     "output_type": "stream",
     "text": [
      "(421570, 7)\n",
      "(421570,)\n"
     ]
    }
   ],
   "source": [
    "feature = ['IsHoliday', 'Type', 'Size', 'Temperature', 'Fuel_Price', 'CPI', 'Unemployment']\n",
    "X_data = train_s_f[feature]\n",
    "y_data = train_s_f['Weekly_Sales']\n",
    "print(X_data.shape)\n",
    "print(y_data.shape)"
   ]
  },
  {
   "cell_type": "code",
   "execution_count": 10,
   "metadata": {
    "collapsed": false
   },
   "outputs": [
    {
     "data": {
      "text/html": [
       "<div>\n",
       "<style>\n",
       "    .dataframe thead tr:only-child th {\n",
       "        text-align: right;\n",
       "    }\n",
       "\n",
       "    .dataframe thead th {\n",
       "        text-align: left;\n",
       "    }\n",
       "\n",
       "    .dataframe tbody tr th {\n",
       "        vertical-align: top;\n",
       "    }\n",
       "</style>\n",
       "<table border=\"1\" class=\"dataframe\">\n",
       "  <thead>\n",
       "    <tr style=\"text-align: right;\">\n",
       "      <th></th>\n",
       "      <th>Store</th>\n",
       "      <th>Dept</th>\n",
       "      <th>Date</th>\n",
       "      <th>IsHoliday</th>\n",
       "      <th>Type</th>\n",
       "      <th>Size</th>\n",
       "      <th>Temperature</th>\n",
       "      <th>Fuel_Price</th>\n",
       "      <th>CPI</th>\n",
       "      <th>Unemployment</th>\n",
       "    </tr>\n",
       "  </thead>\n",
       "  <tbody>\n",
       "    <tr>\n",
       "      <th>0</th>\n",
       "      <td>1</td>\n",
       "      <td>1</td>\n",
       "      <td>2012-11-02</td>\n",
       "      <td>0</td>\n",
       "      <td>1</td>\n",
       "      <td>151315</td>\n",
       "      <td>55.32</td>\n",
       "      <td>3.386</td>\n",
       "      <td>223.462779</td>\n",
       "      <td>6.573</td>\n",
       "    </tr>\n",
       "    <tr>\n",
       "      <th>1</th>\n",
       "      <td>1</td>\n",
       "      <td>1</td>\n",
       "      <td>2012-11-09</td>\n",
       "      <td>0</td>\n",
       "      <td>1</td>\n",
       "      <td>151315</td>\n",
       "      <td>61.24</td>\n",
       "      <td>3.314</td>\n",
       "      <td>223.481307</td>\n",
       "      <td>6.573</td>\n",
       "    </tr>\n",
       "    <tr>\n",
       "      <th>2</th>\n",
       "      <td>1</td>\n",
       "      <td>1</td>\n",
       "      <td>2012-11-16</td>\n",
       "      <td>0</td>\n",
       "      <td>1</td>\n",
       "      <td>151315</td>\n",
       "      <td>52.92</td>\n",
       "      <td>3.252</td>\n",
       "      <td>223.512911</td>\n",
       "      <td>6.573</td>\n",
       "    </tr>\n",
       "    <tr>\n",
       "      <th>3</th>\n",
       "      <td>1</td>\n",
       "      <td>1</td>\n",
       "      <td>2012-11-23</td>\n",
       "      <td>1</td>\n",
       "      <td>1</td>\n",
       "      <td>151315</td>\n",
       "      <td>56.23</td>\n",
       "      <td>3.211</td>\n",
       "      <td>223.561947</td>\n",
       "      <td>6.573</td>\n",
       "    </tr>\n",
       "    <tr>\n",
       "      <th>4</th>\n",
       "      <td>1</td>\n",
       "      <td>1</td>\n",
       "      <td>2012-11-30</td>\n",
       "      <td>0</td>\n",
       "      <td>1</td>\n",
       "      <td>151315</td>\n",
       "      <td>52.34</td>\n",
       "      <td>3.207</td>\n",
       "      <td>223.610984</td>\n",
       "      <td>6.573</td>\n",
       "    </tr>\n",
       "  </tbody>\n",
       "</table>\n",
       "</div>"
      ],
      "text/plain": [
       "   Store  Dept        Date  IsHoliday  Type    Size  Temperature  Fuel_Price  \\\n",
       "0      1     1  2012-11-02          0     1  151315        55.32       3.386   \n",
       "1      1     1  2012-11-09          0     1  151315        61.24       3.314   \n",
       "2      1     1  2012-11-16          0     1  151315        52.92       3.252   \n",
       "3      1     1  2012-11-23          1     1  151315        56.23       3.211   \n",
       "4      1     1  2012-11-30          0     1  151315        52.34       3.207   \n",
       "\n",
       "          CPI  Unemployment  \n",
       "0  223.462779         6.573  \n",
       "1  223.481307         6.573  \n",
       "2  223.512911         6.573  \n",
       "3  223.561947         6.573  \n",
       "4  223.610984         6.573  "
      ]
     },
     "execution_count": 10,
     "metadata": {},
     "output_type": "execute_result"
    }
   ],
   "source": [
    "# 测试集\n",
    "test = pd.read_csv('test.csv')\n",
    "test_s = pd.merge(test, stores, how='left', on='Store')\n",
    "test_s_f = pd.merge(test_s, features, how='left', on=['Store', 'Date', 'IsHoliday'])\n",
    "def b2i(x):\n",
    "    d = {False: 0, True: 1}\n",
    "    if x in d.keys():\n",
    "        return d[x]\n",
    "    else:\n",
    "        return x\n",
    "test_s_f.IsHoliday = test_s_f.IsHoliday.map(b2i)\n",
    "test_s_f.head()"
   ]
  },
  {
   "cell_type": "code",
   "execution_count": 11,
   "metadata": {
    "collapsed": false
   },
   "outputs": [
    {
     "data": {
      "text/html": [
       "<div>\n",
       "<style>\n",
       "    .dataframe thead tr:only-child th {\n",
       "        text-align: right;\n",
       "    }\n",
       "\n",
       "    .dataframe thead th {\n",
       "        text-align: left;\n",
       "    }\n",
       "\n",
       "    .dataframe tbody tr th {\n",
       "        vertical-align: top;\n",
       "    }\n",
       "</style>\n",
       "<table border=\"1\" class=\"dataframe\">\n",
       "  <thead>\n",
       "    <tr style=\"text-align: right;\">\n",
       "      <th></th>\n",
       "      <th>Id</th>\n",
       "      <th>Weekly_Sales</th>\n",
       "    </tr>\n",
       "  </thead>\n",
       "  <tbody>\n",
       "    <tr>\n",
       "      <th>0</th>\n",
       "      <td>1_1_2012-11-02</td>\n",
       "      <td>0</td>\n",
       "    </tr>\n",
       "    <tr>\n",
       "      <th>1</th>\n",
       "      <td>1_1_2012-11-09</td>\n",
       "      <td>0</td>\n",
       "    </tr>\n",
       "    <tr>\n",
       "      <th>2</th>\n",
       "      <td>1_1_2012-11-16</td>\n",
       "      <td>0</td>\n",
       "    </tr>\n",
       "    <tr>\n",
       "      <th>3</th>\n",
       "      <td>1_1_2012-11-23</td>\n",
       "      <td>0</td>\n",
       "    </tr>\n",
       "    <tr>\n",
       "      <th>4</th>\n",
       "      <td>1_1_2012-11-30</td>\n",
       "      <td>0</td>\n",
       "    </tr>\n",
       "  </tbody>\n",
       "</table>\n",
       "</div>"
      ],
      "text/plain": [
       "               Id  Weekly_Sales\n",
       "0  1_1_2012-11-02             0\n",
       "1  1_1_2012-11-09             0\n",
       "2  1_1_2012-11-16             0\n",
       "3  1_1_2012-11-23             0\n",
       "4  1_1_2012-11-30             0"
      ]
     },
     "execution_count": 11,
     "metadata": {},
     "output_type": "execute_result"
    }
   ],
   "source": [
    "samples = pd.read_csv('sampleSubmission.csv')\n",
    "samples.head()"
   ]
  },
  {
   "cell_type": "markdown",
   "metadata": {},
   "source": [
    "# Model"
   ]
  },
  {
   "cell_type": "code",
   "execution_count": 14,
   "metadata": {
    "collapsed": false
   },
   "outputs": [
    {
     "name": "stderr",
     "output_type": "stream",
     "text": [
      "/home/moonlight/anaconda3/lib/python3.5/site-packages/sklearn/cross_validation.py:41: DeprecationWarning: This module was deprecated in version 0.18 in favor of the model_selection module into which all the refactored classes and functions are moved. Also note that the interface of the new CV iterators are different from that of this module. This module will be removed in 0.20.\n",
      "  \"This module will be removed in 0.20.\", DeprecationWarning)\n"
     ]
    }
   ],
   "source": [
    "import xgboost as xgb"
   ]
  },
  {
   "cell_type": "code",
   "execution_count": 15,
   "metadata": {
    "collapsed": true
   },
   "outputs": [],
   "source": [
    "from sklearn.model_selection import train_test_split"
   ]
  },
  {
   "cell_type": "code",
   "execution_count": 16,
   "metadata": {
    "collapsed": true
   },
   "outputs": [],
   "source": [
    "X_train, X_test, y_train, y_test = train_test_split(X_data.values, y_data.values, test_size=0.4, random_state=12345)"
   ]
  },
  {
   "cell_type": "code",
   "execution_count": 17,
   "metadata": {
    "collapsed": true
   },
   "outputs": [],
   "source": [
    "data_train = xgb.DMatrix(X_train, label=y_train)\n",
    "data_test = xgb.DMatrix(X_test, label=y_test)\n",
    "watch_list = [(data_train, 'eval'), (data_test, 'train')]"
   ]
  },
  {
   "cell_type": "code",
   "execution_count": 18,
   "metadata": {
    "collapsed": true
   },
   "outputs": [],
   "source": [
    "param = {'max_depth': 10, 'eta': 1, 'silent': 0, 'objective':'reg:linear', 'lambda':0.2, 'eval_metric':'logloss'}\n",
    "num_rounds = 100\n",
    "plst = param.items()"
   ]
  },
  {
   "cell_type": "code",
   "execution_count": 19,
   "metadata": {
    "collapsed": false
   },
   "outputs": [
    {
     "name": "stdout",
     "output_type": "stream",
     "text": [
      "[0]\teval-logloss:-588119\ttrain-logloss:-589658\n",
      "[1]\teval-logloss:-588119\ttrain-logloss:-589658\n",
      "[2]\teval-logloss:-588119\ttrain-logloss:-589658\n",
      "[3]\teval-logloss:-588119\ttrain-logloss:-589658\n",
      "[4]\teval-logloss:-588119\ttrain-logloss:-589658\n",
      "[5]\teval-logloss:-588119\ttrain-logloss:-589658\n",
      "[6]\teval-logloss:-588119\ttrain-logloss:-589658\n",
      "[7]\teval-logloss:-588119\ttrain-logloss:-589658\n",
      "[8]\teval-logloss:-588119\ttrain-logloss:-589658\n",
      "[9]\teval-logloss:-588119\ttrain-logloss:-589658\n",
      "[10]\teval-logloss:-588119\ttrain-logloss:-589658\n",
      "[11]\teval-logloss:-588119\ttrain-logloss:-589658\n",
      "[12]\teval-logloss:-588119\ttrain-logloss:-589658\n",
      "[13]\teval-logloss:-588119\ttrain-logloss:-589658\n",
      "[14]\teval-logloss:-588119\ttrain-logloss:-589658\n",
      "[15]\teval-logloss:-588119\ttrain-logloss:-589658\n",
      "[16]\teval-logloss:-588119\ttrain-logloss:-589658\n",
      "[17]\teval-logloss:-588119\ttrain-logloss:-589658\n",
      "[18]\teval-logloss:-588119\ttrain-logloss:-589658\n",
      "[19]\teval-logloss:-588119\ttrain-logloss:-589658\n",
      "[20]\teval-logloss:-588119\ttrain-logloss:-589658\n",
      "[21]\teval-logloss:-588119\ttrain-logloss:-589658\n",
      "[22]\teval-logloss:-588119\ttrain-logloss:-589658\n",
      "[23]\teval-logloss:-588119\ttrain-logloss:-589658\n",
      "[24]\teval-logloss:-588119\ttrain-logloss:-589658\n",
      "[25]\teval-logloss:-588119\ttrain-logloss:-589658\n",
      "[26]\teval-logloss:-588119\ttrain-logloss:-589658\n",
      "[27]\teval-logloss:-588119\ttrain-logloss:-589658\n",
      "[28]\teval-logloss:-588119\ttrain-logloss:-589658\n",
      "[29]\teval-logloss:-588119\ttrain-logloss:-589658\n",
      "[30]\teval-logloss:-588119\ttrain-logloss:-589658\n",
      "[31]\teval-logloss:-588119\ttrain-logloss:-589658\n",
      "[32]\teval-logloss:-588119\ttrain-logloss:-589658\n",
      "[33]\teval-logloss:-588119\ttrain-logloss:-589658\n",
      "[34]\teval-logloss:-588119\ttrain-logloss:-589658\n",
      "[35]\teval-logloss:-588119\ttrain-logloss:-589658\n",
      "[36]\teval-logloss:-588119\ttrain-logloss:-589658\n",
      "[37]\teval-logloss:-588119\ttrain-logloss:-589658\n",
      "[38]\teval-logloss:-588119\ttrain-logloss:-589658\n",
      "[39]\teval-logloss:-588119\ttrain-logloss:-589658\n",
      "[40]\teval-logloss:-588119\ttrain-logloss:-589658\n",
      "[41]\teval-logloss:-588119\ttrain-logloss:-589658\n",
      "[42]\teval-logloss:-588119\ttrain-logloss:-589658\n",
      "[43]\teval-logloss:-588119\ttrain-logloss:-589658\n",
      "[44]\teval-logloss:-588119\ttrain-logloss:-589658\n",
      "[45]\teval-logloss:-588119\ttrain-logloss:-589658\n",
      "[46]\teval-logloss:-588119\ttrain-logloss:-589658\n",
      "[47]\teval-logloss:-588119\ttrain-logloss:-589658\n",
      "[48]\teval-logloss:-588119\ttrain-logloss:-589658\n",
      "[49]\teval-logloss:-588119\ttrain-logloss:-589658\n",
      "[50]\teval-logloss:-588119\ttrain-logloss:-589658\n",
      "[51]\teval-logloss:-588119\ttrain-logloss:-589658\n",
      "[52]\teval-logloss:-588119\ttrain-logloss:-589658\n",
      "[53]\teval-logloss:-588119\ttrain-logloss:-589658\n",
      "[54]\teval-logloss:-588119\ttrain-logloss:-589658\n",
      "[55]\teval-logloss:-588119\ttrain-logloss:-589658\n",
      "[56]\teval-logloss:-588119\ttrain-logloss:-589658\n",
      "[57]\teval-logloss:-588119\ttrain-logloss:-589658\n",
      "[58]\teval-logloss:-588119\ttrain-logloss:-589658\n",
      "[59]\teval-logloss:-588119\ttrain-logloss:-589658\n",
      "[60]\teval-logloss:-588119\ttrain-logloss:-589658\n",
      "[61]\teval-logloss:-588119\ttrain-logloss:-589658\n",
      "[62]\teval-logloss:-588119\ttrain-logloss:-589658\n",
      "[63]\teval-logloss:-588119\ttrain-logloss:-589658\n",
      "[64]\teval-logloss:-588119\ttrain-logloss:-589658\n",
      "[65]\teval-logloss:-588119\ttrain-logloss:-589658\n",
      "[66]\teval-logloss:-588119\ttrain-logloss:-589658\n",
      "[67]\teval-logloss:-588119\ttrain-logloss:-589658\n",
      "[68]\teval-logloss:-588119\ttrain-logloss:-589658\n",
      "[69]\teval-logloss:-588119\ttrain-logloss:-589658\n",
      "[70]\teval-logloss:-588119\ttrain-logloss:-589658\n",
      "[71]\teval-logloss:-588119\ttrain-logloss:-589658\n",
      "[72]\teval-logloss:-588119\ttrain-logloss:-589658\n",
      "[73]\teval-logloss:-588119\ttrain-logloss:-589658\n",
      "[74]\teval-logloss:-588119\ttrain-logloss:-589658\n",
      "[75]\teval-logloss:-588119\ttrain-logloss:-589658\n",
      "[76]\teval-logloss:-588119\ttrain-logloss:-589658\n",
      "[77]\teval-logloss:-588119\ttrain-logloss:-589658\n",
      "[78]\teval-logloss:-588119\ttrain-logloss:-589658\n",
      "[79]\teval-logloss:-588119\ttrain-logloss:-589658\n",
      "[80]\teval-logloss:-588119\ttrain-logloss:-589658\n",
      "[81]\teval-logloss:-588119\ttrain-logloss:-589658\n",
      "[82]\teval-logloss:-588119\ttrain-logloss:-589658\n",
      "[83]\teval-logloss:-588119\ttrain-logloss:-589658\n",
      "[84]\teval-logloss:-588119\ttrain-logloss:-589658\n",
      "[85]\teval-logloss:-588119\ttrain-logloss:-589658\n",
      "[86]\teval-logloss:-588119\ttrain-logloss:-589658\n",
      "[87]\teval-logloss:-588119\ttrain-logloss:-589658\n",
      "[88]\teval-logloss:-588119\ttrain-logloss:-589658\n",
      "[89]\teval-logloss:-588119\ttrain-logloss:-589658\n",
      "[90]\teval-logloss:-588119\ttrain-logloss:-589658\n",
      "[91]\teval-logloss:-588119\ttrain-logloss:-589658\n",
      "[92]\teval-logloss:-588119\ttrain-logloss:-589658\n",
      "[93]\teval-logloss:-588119\ttrain-logloss:-589658\n",
      "[94]\teval-logloss:-588119\ttrain-logloss:-589658\n",
      "[95]\teval-logloss:-588119\ttrain-logloss:-589658\n",
      "[96]\teval-logloss:-588119\ttrain-logloss:-589658\n",
      "[97]\teval-logloss:-588119\ttrain-logloss:-589658\n",
      "[98]\teval-logloss:-588119\ttrain-logloss:-589658\n",
      "[99]\teval-logloss:-588119\ttrain-logloss:-589658\n",
      "result: [[  9596.70722656   9471.53691406   1582.18068359 ...,  10545.42644531\n",
      "    6295.21257812  10680.97070312]]\n",
      "error: 14467.759707177478\n",
      "[ 10226.09277344   9488.33691406   4870.20068359 ...,  10628.60644531\n",
      "   7083.64257812  25141.97070312]\n",
      "[  1.98228000e+04   1.68000000e+01   3.28802000e+03 ...,   8.31800000e+01\n",
      "   7.88430000e+02   1.44610000e+04]\n"
     ]
    }
   ],
   "source": [
    "linear = xgb.train(plst, data_train, num_boost_round=num_rounds, evals=watch_list)\n",
    "y_hat = linear.predict(data_test)\n",
    "result = np.abs(y_hat - y_test.reshape(1,-1))\n",
    "print('result: {}'.format(result))\n",
    "print('error: {}'.format(float(np.sum(result))/len(y_hat)))\n",
    "print(y_hat)\n",
    "print(y_test)"
   ]
  },
  {
   "cell_type": "code",
   "execution_count": null,
   "metadata": {
    "collapsed": true
   },
   "outputs": [],
   "source": []
  }
 ],
 "metadata": {
  "anaconda-cloud": {},
  "kernelspec": {
   "display_name": "Python [Root]",
   "language": "python",
   "name": "Python [Root]"
  },
  "language_info": {
   "codemirror_mode": {
    "name": "ipython",
    "version": 3
   },
   "file_extension": ".py",
   "mimetype": "text/x-python",
   "name": "python",
   "nbconvert_exporter": "python",
   "pygments_lexer": "ipython3",
   "version": "3.5.2"
  }
 },
 "nbformat": 4,
 "nbformat_minor": 0
}
